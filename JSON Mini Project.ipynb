{
 "cells": [
  {
   "cell_type": "code",
   "execution_count": 148,
   "metadata": {},
   "outputs": [],
   "source": [
    "import pandas as pd\n",
    "import json\n",
    "from pandas.io.json import json_normalize\n",
    "from collections import defaultdict"
   ]
  },
  {
   "cell_type": "code",
   "execution_count": 149,
   "metadata": {},
   "outputs": [
    {
     "name": "stdout",
     "output_type": "stream",
     "text": [
      "<class 'list'>\n",
      "<class 'dict'>\n"
     ]
    }
   ],
   "source": [
    "with open('/Users/mustafacanan/Desktop/DataFolder/data/world_bank_projects.json','r') as json_file:\n",
    "    worldbank_data = json.load(json_file)\n",
    "print(type(worldbank_data))\n",
    "print(type(worldbank_data[0]))"
   ]
  },
  {
   "cell_type": "code",
   "execution_count": 150,
   "metadata": {},
   "outputs": [
    {
     "name": "stdout",
     "output_type": "stream",
     "text": [
      "sector: [{'Name': 'Primary education'}, {'Name': 'Secondary education'}, {'Name': 'Public administration- Other social services'}, {'Name': 'Tertiary education'}]\n",
      "supplementprojectflg: N\n",
      "projectfinancialtype: IDA\n",
      "prodline: PE\n",
      "mjtheme: ['Human development']\n",
      "idacommamt: 130000000\n",
      "impagency: MINISTRY OF EDUCATION\n",
      "project_name: Ethiopia General Education Quality Improvement Project II\n",
      "mjthemecode: 8,11\n",
      "closingdate: 2018-07-07T00:00:00Z\n",
      "totalcommamt: 130000000\n",
      "id: P129828\n",
      "mjsector_namecode: [{'code': 'EX', 'name': 'Education'}, {'code': 'EX', 'name': 'Education'}, {'code': 'BX', 'name': 'Public Administration, Law, and Justice'}, {'code': 'EX', 'name': 'Education'}]\n",
      "docty: Project Information Document,Indigenous Peoples Plan,Project Information Document\n",
      "sector1: {'Percent': 46, 'Name': 'Primary education'}\n",
      "lendinginstr: Investment Project Financing\n",
      "countrycode: ET\n",
      "sector2: {'Percent': 26, 'Name': 'Secondary education'}\n",
      "totalamt: 130000000\n",
      "mjtheme_namecode: [{'code': '8', 'name': 'Human development'}, {'code': '11', 'name': ''}]\n",
      "boardapprovaldate: 2013-11-12T00:00:00Z\n",
      "countryshortname: Ethiopia\n",
      "sector4: {'Percent': 12, 'Name': 'Tertiary education'}\n",
      "prodlinetext: IBRD/IDA\n",
      "productlinetype: L\n",
      "regionname: Africa\n",
      "status: Active\n",
      "country_namecode: Federal Democratic Republic of Ethiopia!$!ET\n",
      "envassesmentcategorycode: C\n",
      "project_abstract: {'cdata': 'The development objective of the Second Phase of General Education Quality Improvement Project for Ethiopia is to improve learning conditions in primary and secondary schools and strengthen institutions at different levels of educational administration. The project has six components. The first component is curriculum, textbooks, assessment, examinations, and inspection. This component will support improvement of learning conditions in grades KG-12 by providing increased access to teaching and learning materials and through improvements to the curriculum by assessing the strengths and weaknesses of the current curriculum. This component has following four sub-components: (i) curriculum reform and implementation; (ii) teaching and learning materials; (iii) assessment and examinations; and (iv) inspection. The second component is teacher development program (TDP). This component will support improvements in learning conditions in both primary and secondary schools by advancing the quality of teaching in general education through: (a) enhancing the training of pre-service teachers in teacher education institutions; and (b) improving the quality of in-service teacher training. This component has following three sub-components: (i) pre-service teacher training; (ii) in-service teacher training; and (iii) licensing and relicensing of teachers and school leaders. The third component is school improvement plan. This component will support the strengthening of school planning in order to improve learning outcomes, and to partly fund the school improvement plans through school grants. It has following two sub-components: (i) school improvement plan; and (ii) school grants. The fourth component is management and capacity building, including education management information systems (EMIS). This component will support management and capacity building aspect of the project. This component has following three sub-components: (i) capacity building for education planning and management; (ii) capacity building for school planning and management; and (iii) EMIS. The fifth component is improving the quality of learning and teaching in secondary schools and universities through the use of information and communications technology (ICT). It has following five sub-components: (i) national policy and institution for ICT in general education; (ii) national ICT infrastructure improvement plan for general education; (iii) develop an integrated monitoring, evaluation, and learning system specifically for the ICT component; (iv) teacher professional development in the use of ICT; and (v) provision of limited number of e-Braille display readers with the possibility to scale up to all secondary education schools based on the successful implementation and usage of the readers. The sixth component is program coordination, monitoring and evaluation, and communication. It will support institutional strengthening by developing capacities in all aspects of program coordination, monitoring and evaluation; a new sub-component on communications will support information sharing for better management and accountability. It has following three sub-components: (i) program coordination; (ii) monitoring and evaluation (M and E); and (iii) communication.'}\n",
      "approvalfy: 1999\n",
      "projectdocs: [{'DocDate': '28-AUG-2013', 'EntityID': '090224b081e545fb_1_0', 'DocURL': 'http://www-wds.worldbank.org/servlet/WDSServlet?pcont=details&eid=090224b081e545fb_1_0', 'DocType': 'PID', 'DocTypeDesc': 'Project Information Document (PID),  Vol.'}, {'DocDate': '01-JUL-2013', 'EntityID': '000442464_20130920111729', 'DocURL': 'http://www-wds.worldbank.org/servlet/WDSServlet?pcont=details&eid=000442464_20130920111729', 'DocType': 'IP', 'DocTypeDesc': 'Indigenous Peoples Plan (IP),  Vol.1 of 1'}, {'DocDate': '22-NOV-2012', 'EntityID': '090224b0817b19e2_1_0', 'DocURL': 'http://www-wds.worldbank.org/servlet/WDSServlet?pcont=details&eid=090224b0817b19e2_1_0', 'DocType': 'PID', 'DocTypeDesc': 'Project Information Document (PID),  Vol.'}]\n",
      "lendprojectcost: 550000000\n",
      "lendinginstrtype: IN\n",
      "theme1: {'Percent': 100, 'Name': 'Education for all'}\n",
      "grantamt: 0\n",
      "themecode: 65\n",
      "borrower: FEDERAL DEMOCRATIC REPUBLIC OF ETHIOPIA\n",
      "sectorcode: ET,BS,ES,EP\n",
      "sector3: {'Percent': 16, 'Name': 'Public administration- Other social services'}\n",
      "majorsector_percent: [{'Percent': 46, 'Name': 'Education'}, {'Percent': 26, 'Name': 'Education'}, {'Percent': 16, 'Name': 'Public Administration, Law, and Justice'}, {'Percent': 12, 'Name': 'Education'}]\n",
      "board_approval_month: November\n",
      "theme_namecode: [{'code': '65', 'name': 'Education for all'}]\n",
      "countryname: Federal Democratic Republic of Ethiopia\n",
      "url: http://www.worldbank.org/projects/P129828/ethiopia-general-education-quality-improvement-project-ii?lang=en\n",
      "source: IBRD\n",
      "projectstatusdisplay: Active\n",
      "ibrdcommamt: 0\n",
      "sector_namecode: [{'code': 'EP', 'name': 'Primary education'}, {'code': 'ES', 'name': 'Secondary education'}, {'code': 'BS', 'name': 'Public administration- Other social services'}, {'code': 'ET', 'name': 'Tertiary education'}]\n",
      "_id: {'$oid': '52b213b38594d8a2be17c780'}\n"
     ]
    }
   ],
   "source": [
    "#define json string\n",
    "for key,value in worldbank_data[0].items():\n",
    "    print(key + ':',value)"
   ]
  },
  {
   "cell_type": "code",
   "execution_count": 151,
   "metadata": {},
   "outputs": [
    {
     "name": "stdout",
     "output_type": "stream",
     "text": [
      "                   _id.$oid approvalfy board_approval_month  \\\n",
      "0  52b213b38594d8a2be17c780       1999             November   \n",
      "1  52b213b38594d8a2be17c781       2015             November   \n",
      "2  52b213b38594d8a2be17c782       2014             November   \n",
      "3  52b213b38594d8a2be17c783       2014              October   \n",
      "4  52b213b38594d8a2be17c784       2014              October   \n",
      "\n",
      "      boardapprovaldate                                 borrower  \\\n",
      "0  2013-11-12T00:00:00Z  FEDERAL DEMOCRATIC REPUBLIC OF ETHIOPIA   \n",
      "1  2013-11-04T00:00:00Z                    GOVERNMENT OF TUNISIA   \n",
      "2  2013-11-01T00:00:00Z   MINISTRY OF FINANCE AND ECONOMIC DEVEL   \n",
      "3  2013-10-31T00:00:00Z   MIN. OF PLANNING AND INT'L COOPERATION   \n",
      "4  2013-10-31T00:00:00Z                      MINISTRY OF FINANCE   \n",
      "\n",
      "            closingdate                              country_namecode  \\\n",
      "0  2018-07-07T00:00:00Z  Federal Democratic Republic of Ethiopia!$!ET   \n",
      "1                   NaN                      Republic of Tunisia!$!TN   \n",
      "2                   NaN                                   Tuvalu!$!TV   \n",
      "3                   NaN                        Republic of Yemen!$!RY   \n",
      "4  2019-04-30T00:00:00Z                       Kingdom of Lesotho!$!LS   \n",
      "\n",
      "  countrycode                              countryname    countryshortname  \\\n",
      "0          ET  Federal Democratic Republic of Ethiopia            Ethiopia   \n",
      "1          TN                      Republic of Tunisia             Tunisia   \n",
      "2          TV                                   Tuvalu              Tuvalu   \n",
      "3          RY                        Republic of Yemen  Yemen, Republic of   \n",
      "4          LS                       Kingdom of Lesotho             Lesotho   \n",
      "\n",
      "                         ...                         source  status  \\\n",
      "0                        ...                           IBRD  Active   \n",
      "1                        ...                           IBRD  Active   \n",
      "2                        ...                           IBRD  Active   \n",
      "3                        ...                           IBRD  Active   \n",
      "4                        ...                           IBRD  Active   \n",
      "\n",
      "   supplementprojectflg                             theme1.Name  \\\n",
      "0                     N                       Education for all   \n",
      "1                     N               Other economic management   \n",
      "2                     Y                    Regional integration   \n",
      "3                     N      Participation and civic engagement   \n",
      "4                     N  Export development and competitiveness   \n",
      "\n",
      "  theme1.Percent                                     theme_namecode  \\\n",
      "0            100      [{'code': '65', 'name': 'Education for all'}]   \n",
      "1             30  [{'code': '24', 'name': 'Other economic manage...   \n",
      "2             46  [{'code': '47', 'name': 'Regional integration'...   \n",
      "3             50  [{'code': '57', 'name': 'Participation and civ...   \n",
      "4             30  [{'code': '45', 'name': 'Export development an...   \n",
      "\n",
      "     themecode   totalamt totalcommamt  \\\n",
      "0           65  130000000    130000000   \n",
      "1        54,24          0      4700000   \n",
      "2  52,81,25,47    6060000      6060000   \n",
      "3        59,57          0      1500000   \n",
      "4        41,45   13100000     13100000   \n",
      "\n",
      "                                                 url  \n",
      "0  http://www.worldbank.org/projects/P129828/ethi...  \n",
      "1  http://www.worldbank.org/projects/P144674?lang=en  \n",
      "2  http://www.worldbank.org/projects/P145310?lang=en  \n",
      "3  http://www.worldbank.org/projects/P144665?lang=en  \n",
      "4  http://www.worldbank.org/projects/P144933/seco...  \n",
      "\n",
      "[5 rows x 55 columns]\n"
     ]
    }
   ],
   "source": [
    "#use normalization to create tables from nested element\n",
    "worldbank_normalize=json_normalize(worldbank_data)\n",
    "print(worldbank_normalize.head())"
   ]
  },
  {
   "cell_type": "code",
   "execution_count": 152,
   "metadata": {},
   "outputs": [
    {
     "name": "stdout",
     "output_type": "stream",
     "text": [
      "<class 'pandas.core.frame.DataFrame'>\n",
      "0        [{'code': '65', 'name': 'Education for all'}]\n",
      "1    [{'code': '24', 'name': 'Other economic manage...\n",
      "2    [{'code': '47', 'name': 'Regional integration'...\n",
      "3    [{'code': '57', 'name': 'Participation and civ...\n",
      "4    [{'code': '45', 'name': 'Export development an...\n",
      "Name: theme_namecode, dtype: object\n"
     ]
    }
   ],
   "source": [
    "#load as Pandas dataframe\n",
    "worldbank_df=pd.read_json('/Users/mustafacanan/Desktop/DataFolder/data/world_bank_projects.json',orient='records')\n",
    "print(type(worldbank_df))\n",
    "print(worldbank_df.theme_namecode.head())"
   ]
  },
  {
   "cell_type": "code",
   "execution_count": 153,
   "metadata": {},
   "outputs": [
    {
     "name": "stdout",
     "output_type": "stream",
     "text": [
      "10 Countries With The Most Projects\n",
      "Republic of Indonesia              19\n",
      "People's Republic of China         19\n",
      "Socialist Republic of Vietnam      17\n",
      "Republic of India                  16\n",
      "Republic of Yemen                  13\n",
      "Kingdom of Morocco                 12\n",
      "Nepal                              12\n",
      "People's Republic of Bangladesh    12\n",
      "Africa                             11\n",
      "Republic of Mozambique             11\n",
      "Name: countryname, dtype: int64\n"
     ]
    }
   ],
   "source": [
    "#Find the 10 countries with most projects\n",
    "print('10 Countries With The Most Projects')\n",
    "print(worldbank_normalize['countryname'].value_counts().head(10))"
   ]
  },
  {
   "cell_type": "code",
   "execution_count": 183,
   "metadata": {},
   "outputs": [
    {
     "name": "stdout",
     "output_type": "stream",
     "text": [
      "Top 10 Major Project Themes\n",
      "Environment and natural resources management    223\n",
      "Rural development                               202\n",
      "Human development                               197\n",
      "Public sector governance                        184\n",
      "Social protection and risk management           158\n",
      "Financial and private sector development        130\n",
      "                                                122\n",
      "Social dev/gender/inclusion                     119\n",
      "Trade and integration                            72\n",
      "Urban development                                47\n",
      "Name: name, dtype: int64\n"
     ]
    }
   ],
   "source": [
    "#Find the top 10 major project themes\n",
    "print('Top 10 Major Project Themes')\n",
    "worldbank_normalize2=json_normalize(worldbank_data,'mjtheme_namecode')\n",
    "print(worldbank_normalize2['name'].value_counts().head(10))"
   ]
  },
  {
   "cell_type": "code",
   "execution_count": 193,
   "metadata": {},
   "outputs": [
    {
     "name": "stdout",
     "output_type": "stream",
     "text": [
      "        code                                          name\n",
      "count   1499                                          1499\n",
      "unique    11                                            12\n",
      "top       11  Environment and natural resources management\n",
      "freq     250                                           223\n"
     ]
    }
   ],
   "source": [
    "#checking the data info\n",
    "print(worldbank_normalize2.describe())"
   ]
  },
  {
   "cell_type": "code",
   "execution_count": 203,
   "metadata": {},
   "outputs": [
    {
     "name": "stdout",
     "output_type": "stream",
     "text": [
      "{'8': 'Human development', '1': 'Economic management', '6': 'Social protection and risk management', '5': 'Trade and integration', '2': 'Public sector governance', '11': 'Environment and natural resources management', '7': 'Social dev/gender/inclusion', '4': 'Financial and private sector development', '10': 'Rural development', '9': 'Urban development', '3': 'Rule of law'}\n"
     ]
    }
   ],
   "source": [
    "#theme names and codes map\n",
    "worldbank_normalize2.drop_duplicates()\n",
    "worldbank_clean={}\n",
    "for row in worldbank_normalize2.itertuples():\n",
    "    if row[2] != '':\n",
    "        worldbank_clean[row[1]] = row[2]\n",
    "print(worldbank_clean)\n",
    "        "
   ]
  },
  {
   "cell_type": "code",
   "execution_count": 207,
   "metadata": {},
   "outputs": [
    {
     "name": "stdout",
     "output_type": "stream",
     "text": [
      "0                               Human development\n",
      "1    Environment and natural resources management\n",
      "2                             Economic management\n",
      "3           Social protection and risk management\n",
      "4                           Trade and integration\n",
      "5                        Public sector governance\n",
      "6    Environment and natural resources management\n",
      "7           Social protection and risk management\n",
      "8                     Social dev/gender/inclusion\n",
      "9                     Social dev/gender/inclusion\n",
      "Name: name, dtype: object\n"
     ]
    }
   ],
   "source": [
    "#Filling the missing values\n",
    "for row in worldbank_normalize2.itertuples():\n",
    "    if row[2] == '':\n",
    "        worldbank_normalize2.at(row[0], 'name', worldbank_clean[row[1]])\n",
    "print(worldbank_normalize2.name.head(10))"
   ]
  },
  {
   "cell_type": "code",
   "execution_count": 209,
   "metadata": {},
   "outputs": [
    {
     "name": "stdout",
     "output_type": "stream",
     "text": [
      "Environment and natural resources management    250\n",
      "Rural development                               216\n",
      "Human development                               210\n",
      "Public sector governance                        199\n",
      "Social protection and risk management           168\n",
      "Financial and private sector development        146\n",
      "Social dev/gender/inclusion                     130\n",
      "Trade and integration                            77\n",
      "Urban development                                50\n",
      "Economic management                              38\n",
      "Name: name, dtype: int64\n"
     ]
    }
   ],
   "source": [
    "#Last version of the top 10 major project themes\n",
    "print(worldbank_normalize2['name'].value_counts().head(10))"
   ]
  }
 ],
 "metadata": {
  "kernelspec": {
   "display_name": "Python 3",
   "language": "python",
   "name": "python3"
  },
  "language_info": {
   "codemirror_mode": {
    "name": "ipython",
    "version": 3
   },
   "file_extension": ".py",
   "mimetype": "text/x-python",
   "name": "python",
   "nbconvert_exporter": "python",
   "pygments_lexer": "ipython3",
   "version": "3.7.1"
  }
 },
 "nbformat": 4,
 "nbformat_minor": 2
}
