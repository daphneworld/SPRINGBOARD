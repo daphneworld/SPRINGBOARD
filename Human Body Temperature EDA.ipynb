{
 "cells": [
  {
   "cell_type": "markdown",
   "metadata": {},
   "source": [
    "# What is the True Normal Human Body Temperature?\n",
    "\n",
    "## Background\n",
    "\n",
    "The mean normal body temperature was held to be 37$^{\\circ}$C or 98.6$^{\\circ}$F for more than 120 years since it was first conceptualized and reported by Carl Wunderlich in a famous 1868 book. But, is this value statistically correct?\n"
   ]
  },
  {
   "cell_type": "code",
   "execution_count": 19,
   "metadata": {},
   "outputs": [],
   "source": [
    "import pandas as pd\n",
    "import numpy as np\n",
    "import matplotlib.pyplot as plt\n",
    "import seaborn as sns"
   ]
  },
  {
   "cell_type": "code",
   "execution_count": 14,
   "metadata": {},
   "outputs": [
    {
     "data": {
      "text/html": [
       "<div>\n",
       "<style scoped>\n",
       "    .dataframe tbody tr th:only-of-type {\n",
       "        vertical-align: middle;\n",
       "    }\n",
       "\n",
       "    .dataframe tbody tr th {\n",
       "        vertical-align: top;\n",
       "    }\n",
       "\n",
       "    .dataframe thead th {\n",
       "        text-align: right;\n",
       "    }\n",
       "</style>\n",
       "<table border=\"1\" class=\"dataframe\">\n",
       "  <thead>\n",
       "    <tr style=\"text-align: right;\">\n",
       "      <th></th>\n",
       "      <th>temperature</th>\n",
       "      <th>gender</th>\n",
       "      <th>heart_rate</th>\n",
       "    </tr>\n",
       "  </thead>\n",
       "  <tbody>\n",
       "    <tr>\n",
       "      <th>0</th>\n",
       "      <td>99.3</td>\n",
       "      <td>F</td>\n",
       "      <td>68.0</td>\n",
       "    </tr>\n",
       "    <tr>\n",
       "      <th>1</th>\n",
       "      <td>98.4</td>\n",
       "      <td>F</td>\n",
       "      <td>81.0</td>\n",
       "    </tr>\n",
       "    <tr>\n",
       "      <th>2</th>\n",
       "      <td>97.8</td>\n",
       "      <td>M</td>\n",
       "      <td>73.0</td>\n",
       "    </tr>\n",
       "    <tr>\n",
       "      <th>3</th>\n",
       "      <td>99.2</td>\n",
       "      <td>F</td>\n",
       "      <td>66.0</td>\n",
       "    </tr>\n",
       "    <tr>\n",
       "      <th>4</th>\n",
       "      <td>98.0</td>\n",
       "      <td>F</td>\n",
       "      <td>73.0</td>\n",
       "    </tr>\n",
       "  </tbody>\n",
       "</table>\n",
       "</div>"
      ],
      "text/plain": [
       "   temperature gender  heart_rate\n",
       "0         99.3      F        68.0\n",
       "1         98.4      F        81.0\n",
       "2         97.8      M        73.0\n",
       "3         99.2      F        66.0\n",
       "4         98.0      F        73.0"
      ]
     },
     "execution_count": 14,
     "metadata": {},
     "output_type": "execute_result"
    }
   ],
   "source": [
    "df = pd.read_csv('human_body_temperature.csv')\n",
    "df.head()"
   ]
  },
  {
   "cell_type": "code",
   "execution_count": 31,
   "metadata": {},
   "outputs": [
    {
     "name": "stdout",
     "output_type": "stream",
     "text": [
      "<class 'pandas.core.frame.DataFrame'>\n",
      "RangeIndex: 130 entries, 0 to 129\n",
      "Data columns (total 3 columns):\n",
      "temperature    130 non-null float64\n",
      "gender         130 non-null object\n",
      "heart_rate     130 non-null float64\n",
      "dtypes: float64(2), object(1)\n",
      "memory usage: 3.1+ KB\n"
     ]
    }
   ],
   "source": [
    "df.info()"
   ]
  },
  {
   "cell_type": "markdown",
   "metadata": {},
   "source": [
    "## Is the distribution of body temperatures normal?\n",
    "\n",
    "H0: Distribution of Body Temperature is normal.\n",
    "\n",
    "H1: Distribution of Body Temperature is not normal."
   ]
  },
  {
   "cell_type": "code",
   "execution_count": 53,
   "metadata": {},
   "outputs": [
    {
     "name": "stdout",
     "output_type": "stream",
     "text": [
      "Mean is 98.24923076923078\n",
      "Standard Deviation is 0.7303577789050377\n"
     ]
    },
    {
     "data": {
      "image/png": "[encoded data removed]",
      "text/plain": [
       "<Figure size 432x288 with 1 Axes>"
      ]
     },
     "metadata": {
      "needs_background": "light"
     },
     "output_type": "display_data"
    }
   ],
   "source": [
    "sns.distplot(df['temperature'],bins=20)\n",
    "plt.xlabel('temperature (°F)')\n",
    "plt.title('Figure 1:Distribution of temperature')\n",
    "t=df['temperature']\n",
    "mean=np.mean(t)\n",
    "std=np.std(t)\n",
    "print(f'Mean is {mean}')\n",
    "print(f'Standard Deviation is {std}')"
   ]
  },
  {
   "cell_type": "code",
   "execution_count": 54,
   "metadata": {},
   "outputs": [
    {
     "data": {
      "image/png": "[encoded data removed]",
      "text/plain": [
       "<Figure size 432x288 with 1 Axes>"
      ]
     },
     "metadata": {
      "needs_background": "light"
     },
     "output_type": "display_data"
    },
    {
     "data": {
      "text/plain": [
       "NormaltestResult(statistic=2.703801433319203, pvalue=0.2587479863488254)"
      ]
     },
     "execution_count": 54,
     "metadata": {},
     "output_type": "execute_result"
    }
   ],
   "source": [
    "def ecdf(data):\n",
    "    n = len(data)\n",
    "    x = np.sort(data)\n",
    "    y = np.arange(1, n+1) / n\n",
    "    return x, y\n",
    "samples = np.random.normal(mean, std, size = 10000)\n",
    "x,y=ecdf(t)\n",
    "x_theor,y_theor=ecdf(samples)\n",
    "_=plt.plot(x,y,marker='.',linestyle='none')\n",
    "_=plt.plot(x_theor,y_theor)\n",
    "_=plt.ylabel('ECDF')\n",
    "_=plt.xlabel('Temperature (°F)')\n",
    "plt.margins(0.02)\n",
    "plt.title('Figure 2:ECDF of temperature')\n",
    "plt.show()\n",
    "\n",
    "from scipy.stats import normaltest\n",
    "\n",
    "normaltest(df['temperature'])"
   ]
  },
  {
   "cell_type": "markdown",
   "metadata": {},
   "source": [
    "Distribution of Body Temperature is normal. The p-value is approximately 0.25  based on normalization test.  It is bigger than 0.05; therefore, we cannot reject the null hypothesis. It means the distribution of Body Temperature is normal.\n",
    "\n",
    "## Is the sample size large? Are the observations independent?\n",
    "\n",
    "Since the distribution is normal,  the general rule of thumb for the large enough sample condition is that n>30.  \n",
    "\n",
    "n=130 and 130>30\n",
    "\n",
    "The sample size is large enough.\n",
    "\n",
    "Because each temperature belongs to different people, the observations are independent. \n",
    "\n",
    "## Is the true population mean really 98.6 degrees F?\n",
    "\n",
    "H0: The population mean is 98.6 °F.\n",
    "\n",
    "H1: The population mean is not 98.6 °F."
   ]
  },
  {
   "cell_type": "code",
   "execution_count": 69,
   "metadata": {},
   "outputs": [
    {
     "name": "stdout",
     "output_type": "stream",
     "text": [
      "p-value = 0.0\n"
     ]
    }
   ],
   "source": [
    "def diff_of_means(data):\n",
    "    diff = np.mean(data)-98.6\n",
    "    return diff\n",
    "def draw_bs_reps(data, func, size=1):\n",
    "    bs_replicates = np.empty(size)\n",
    "    for i in range(size):\n",
    "        bs_replicates[i] = func(np.random.choice(data,size=len(data)))\n",
    "    return bs_replicates\n",
    "mean_diff= diff_of_means(t)\n",
    "shifted_temp = t - mean + 98.6\n",
    "bs_replicates = draw_bs_reps(shifted_temp, diff_of_means,10000)\n",
    "p = np.sum(bs_replicates <= mean_diff)/ len(bs_replicates)\n",
    "print('p-value =', p)"
   ]
  },
  {
   "cell_type": "markdown",
   "metadata": {},
   "source": [
    "I would use a one-sample test because I have only one sample. The sample size is large enough(n>30), so Z-score can be used."
   ]
  },
  {
   "cell_type": "code",
   "execution_count": 72,
   "metadata": {},
   "outputs": [
    {
     "data": {
      "text/plain": [
       "(-5.4548232923645195, 4.9021570141012155e-08)"
      ]
     },
     "execution_count": 72,
     "metadata": {},
     "output_type": "execute_result"
    }
   ],
   "source": [
    "from statsmodels.stats.weightstats import ztest\n",
    "\n",
    "ztest(x1 = t, value = 98.6)"
   ]
  },
  {
   "cell_type": "markdown",
   "metadata": {},
   "source": [
    "The p-value is very small. Therefore, we can reject the null hypothesis. Let's check if anything changes for the t-test."
   ]
  },
  {
   "cell_type": "code",
   "execution_count": 73,
   "metadata": {},
   "outputs": [
    {
     "data": {
      "text/plain": [
       "Ttest_1sampResult(statistic=-5.4548232923645195, pvalue=2.4106320415561276e-07)"
      ]
     },
     "execution_count": 73,
     "metadata": {},
     "output_type": "execute_result"
    }
   ],
   "source": [
    "from scipy.stats import ttest_1samp\n",
    "\n",
    "ttest_1samp(t, 98.6)"
   ]
  },
  {
   "cell_type": "markdown",
   "metadata": {},
   "source": [
    "The p-value is still very small. Let's draw a small sample of size 10 from the data and repeat both frequentist tests for this small data sample."
   ]
  },
  {
   "cell_type": "code",
   "execution_count": 74,
   "metadata": {},
   "outputs": [],
   "source": [
    "small_sample = np.random.choice(t,10)"
   ]
  },
  {
   "cell_type": "code",
   "execution_count": 78,
   "metadata": {},
   "outputs": [
    {
     "name": "stdout",
     "output_type": "stream",
     "text": [
      "p-value = 0.0042\n",
      "z-test results: (-2.449489742783193, 0.014305878435429053)\n",
      "t-test results: Ttest_1sampResult(statistic=-2.449489742783193, pvalue=0.03678749787978524)\n"
     ]
    }
   ],
   "source": [
    "#Bootstrap test\n",
    "diff_mean= diff_of_means(small_sample)\n",
    "shift_temp = small_sample - np.mean(small_sample) + 98.6\n",
    "bs_replicate = draw_bs_reps(shift_temp, diff_of_means,10000)\n",
    "p = np.sum(bs_replicate <= diff_mean)/ len(bs_replicate)\n",
    "print('p-value =', p)\n",
    "#z-test\n",
    "print('z-test results:',ztest(x1 = small_sample, value = 98.6))\n",
    "#t-test\n",
    "print('t-test results:',ttest_1samp(small_sample, 98.6))"
   ]
  },
  {
   "cell_type": "markdown",
   "metadata": {},
   "source": [
    "The p-value is bigger when we used the small size of the sample. The proper test for this sample is the t-test. It is because of 10<30, and the standard deviation of the population is unknown.\n",
    "\n",
    "## At what temperature should we consider someone's temperature to be \"abnormal\"?"
   ]
  },
  {
   "cell_type": "code",
   "execution_count": 82,
   "metadata": {},
   "outputs": [
    {
     "name": "stdout",
     "output_type": "stream",
     "text": [
      "[98.12538462 98.37461538]\n",
      "margin of error:0.125550964802579\n"
     ]
    }
   ],
   "source": [
    "bs_new_replicates = draw_bs_reps(t, np.mean, 10000)\n",
    "conf_int = np.percentile(bs_new_replicates,[2.5,97.5])\n",
    "print(conf_int)\n",
    "# z value for % 95 confidence interval\n",
    "z_value=1.96\n",
    "marg_err = z_value * std / np.sqrt(len(t))\n",
    "print(f'margin of error:{marg_err}')"
   ]
  },
  {
   "cell_type": "markdown",
   "metadata": {},
   "source": [
    "98.124 and 98.374 are between the 95% confidence interval. For temperature outside this range, we can consider being \"abnormal\". \n",
    "\n",
    "## Is there a significant difference between males and females in normal temperature?\n",
    "\n",
    "H0: There is not a significant difference between males and females at normal temperature.\n",
    "\n",
    "H1: There is a significant difference between males and females at normal temperature.\n",
    "\n",
    "A two sample permutation test is the best approach to test the hypothesis."
   ]
  },
  {
   "cell_type": "code",
   "execution_count": 90,
   "metadata": {},
   "outputs": [
    {
     "data": {
      "image/png": "[encoded data removed]",
      "text/plain": [
       "<Figure size 432x288 with 1 Axes>"
      ]
     },
     "metadata": {
      "needs_background": "light"
     },
     "output_type": "display_data"
    },
    {
     "data": {
      "image/png": "[encoded data removed]",
      "text/plain": [
       "<Figure size 432x288 with 1 Axes>"
      ]
     },
     "metadata": {
      "needs_background": "light"
     },
     "output_type": "display_data"
    }
   ],
   "source": [
    "sns.swarmplot(x='gender',y='temperature', data=df)\n",
    "plt.title('Figure 3: Distribution of temperature based on gender')\n",
    "plt.xlabel('gender')\n",
    "plt.ylabel('temperature (°F)')\n",
    "plt.show()\n",
    "data=df.set_index('gender')\n",
    "F=data.loc['F']\n",
    "M=data.loc['M']\n",
    "x_f,y_f=ecdf(F['temperature'])\n",
    "x_m,y_m=ecdf(M['temperature'])\n",
    "_=plt.plot(x_f,y_f,marker='.',linestyle='none')\n",
    "_=plt.plot(x_m,y_m,marker='.',linestyle='none')\n",
    "_=plt.ylabel('ECDF')\n",
    "_=plt.xlabel('Temperature (°F)')\n",
    "plt.margins(0.02)\n",
    "plt.title('Figure 4:ECDF of temperature based on gender')\n",
    "plt.show()"
   ]
  },
  {
   "cell_type": "code",
   "execution_count": 92,
   "metadata": {},
   "outputs": [
    {
     "name": "stdout",
     "output_type": "stream",
     "text": [
      "p:  0.0118\n"
     ]
    }
   ],
   "source": [
    "def permutation_sample(data1, data2):\n",
    "    data = np.concatenate((data1,data2))\n",
    "    permuted_data = np.random.permutation(data)\n",
    "    perm_sample_1 = permuted_data[:len(data1)]\n",
    "    perm_sample_2 = permuted_data[len(data1):]\n",
    "    return perm_sample_1, perm_sample_2\n",
    "def draw_perm_reps(data_1, data_2, func, size=1):\n",
    "    perm_replicates = np.empty(size)\n",
    "    for i in range(size):\n",
    "        perm_sample_1, perm_sample_2 = permutation_sample(data_1,data_2)\n",
    "        perm_replicates[i] = func(perm_sample_1,perm_sample_2)\n",
    "    return perm_replicates\n",
    "def dif_of_mean(data_1, data_2):\n",
    "    return np.mean(data_1) - np.mean(data_2)\n",
    "perm_replicates=draw_perm_reps(F['temperature'],M['temperature'],dif_of_mean,10000)\n",
    "emp_mean=dif_of_mean(F['temperature'],M['temperature'])\n",
    "p = np.sum(perm_replicates >= emp_mean) / len(perm_replicates)\n",
    "print('p: ',p)"
   ]
  },
  {
   "cell_type": "markdown",
   "metadata": {},
   "source": [
    "p value is less than 0.05. Therefore, we can reject the null hypothesis. \n",
    "\n",
    "## Key Findings\n",
    "\n",
    "    1. The distribution of Body Temperature is normal.\n",
    "    2. The sample size is large enough.\n",
    "    3. Because each temperature belongs to different people, the observations are independent.\n",
    "    4. The population mean is not 98.6 °F.\n",
    "    5. Between 98.124 and 98.374 can consider being \"abnormal\"\n",
    "    6. There is a significant difference between males and females at normal temperature."
   ]
  }
 ],
 "metadata": {
  "kernelspec": {
   "display_name": "Python 3",
   "language": "python",
   "name": "python3"
  },
  "language_info": {
   "codemirror_mode": {
    "name": "ipython",
    "version": 3
   },
   "file_extension": ".py",
   "mimetype": "text/x-python",
   "name": "python",
   "nbconvert_exporter": "python",
   "pygments_lexer": "ipython3",
   "version": "3.7.1"
  }
 },
 "nbformat": 4,
 "nbformat_minor": 2
}
